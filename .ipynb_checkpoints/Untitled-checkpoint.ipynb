{
 "cells": [
  {
   "cell_type": "code",
   "execution_count": 1,
   "id": "74ddd99c-0733-4bf5-8233-6cd795e49d6f",
   "metadata": {},
   "outputs": [
    {
     "name": "stdout",
     "output_type": "stream",
     "text": [
      "5\n",
      "[10, 11, 12, 13, 14]\n",
      "[1, 3, 5, 7]\n",
      "[1, 3, 5, 7]\n"
     ]
    }
   ],
   "source": [
    "import torch\n",
    "from torch.utils.data import Dataset\n",
    "\n",
    "class MyDataset(Dataset):\n",
    "    def __init__(self, data):\n",
    "        self.data = data\n",
    "\n",
    "    def __len__(self):\n",
    "        return len(self.data)\n",
    "\n",
    "    def __getitem__(self, idx):\n",
    "        if isinstance(idx, int):\n",
    "            # 单个整数索引\n",
    "            return self.data[idx]\n",
    "        elif isinstance(idx, slice):\n",
    "            # 切片索引\n",
    "            return [self.data[i] for i in range(*idx.indices(len(self)))]\n",
    "        elif isinstance(idx, list) or isinstance(idx, torch.Tensor):\n",
    "            # 列表或张量索引\n",
    "            return [self.data[i] for i in idx]\n",
    "        else:\n",
    "            raise TypeError(\"Invalid index type\")\n",
    "\n",
    "# 使用示例\n",
    "data = list(range(100))  # 示例数据\n",
    "dataset = MyDataset(data)\n",
    "\n",
    "print(dataset[5])  # 单个索引\n",
    "print(dataset[10:15])  # 切片索引\n",
    "print(dataset[[1, 3, 5, 7]])  # 列表索引\n",
    "print(dataset[torch.tensor([1, 3, 5, 7])])  # 张量索引"
   ]
  },
  {
   "cell_type": "code",
   "execution_count": null,
   "id": "5996882e-bdd1-4260-a8cc-c2180a021369",
   "metadata": {},
   "outputs": [],
   "source": [
    "deepspeed sft.py --ds_config ds_config.yaml"
   ]
  },
  {
   "cell_type": "code",
   "execution_count": 2,
   "id": "a6a9c61e-0b20-418a-a463-c7d20bd47ab1",
   "metadata": {},
   "outputs": [
    {
     "name": "stdout",
     "output_type": "stream",
     "text": [
      "50\n",
      "0\n",
      "2\n"
     ]
    }
   ],
   "source": [
    "from torch.utils.data import Dataset, Subset\n",
    "\n",
    "# 假设这是我们的原始数据集\n",
    "class MyDataset(Dataset):\n",
    "    def __init__(self, data):\n",
    "        self.data = data\n",
    "    \n",
    "    def __getitem__(self, index):\n",
    "        return self.data[index]\n",
    "    \n",
    "    def __len__(self):\n",
    "        return len(self.data)\n",
    "\n",
    "# 创建一个包含 100 个项目的数据集\n",
    "original_dataset = MyDataset(list(range(100)))\n",
    "\n",
    "# 创建一个只包含偶数索引的子集\n",
    "even_indices = list(range(0, 100, 2))\n",
    "even_subset = Subset(original_dataset, [[0,2]])\n",
    "\n",
    "# 现在 even_subset 是一个新的数据集，只包含原始数据集中的偶数项\n",
    "print(len(even_subset))  # 输出：50\n",
    "print(even_subset[0])    # 输出：0\n",
    "print(even_subset[1])    # 输出：2"
   ]
  },
  {
   "cell_type": "code",
   "execution_count": null,
   "id": "55b5be6a-8e7d-493c-86bd-cedaedb05e64",
   "metadata": {},
   "outputs": [],
   "source": []
  }
 ],
 "metadata": {
  "kernelspec": {
   "display_name": "vlm",
   "language": "python",
   "name": "vlm"
  },
  "language_info": {
   "codemirror_mode": {
    "name": "ipython",
    "version": 3
   },
   "file_extension": ".py",
   "mimetype": "text/x-python",
   "name": "python",
   "nbconvert_exporter": "python",
   "pygments_lexer": "ipython3",
   "version": "3.10.14"
  }
 },
 "nbformat": 4,
 "nbformat_minor": 5
}
